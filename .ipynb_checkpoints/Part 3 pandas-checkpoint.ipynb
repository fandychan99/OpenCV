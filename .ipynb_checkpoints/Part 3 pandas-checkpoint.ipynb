{
 "cells": [
  {
   "cell_type": "code",
   "execution_count": null,
   "id": "4bb96b10",
   "metadata": {},
   "outputs": [],
   "source": [
    "import numpy as np\n",
    "import pandas as pd"
   ]
  },
  {
   "cell_type": "markdown",
   "id": "446b08f8",
   "metadata": {},
   "source": [
    "#### Membuat data frame (df)"
   ]
  },
  {
   "cell_type": "code",
   "execution_count": null,
   "id": "f2d2fd2d",
   "metadata": {},
   "outputs": [],
   "source": [
    "contoh_data = {'a' : [1,2,3], 'b':[4,5,6]}\n",
    "contoh_data"
   ]
  },
  {
   "cell_type": "code",
   "execution_count": null,
   "id": "098b5580",
   "metadata": {},
   "outputs": [],
   "source": [
    "pd.DataFrame(data=contoh_data)"
   ]
  },
  {
   "cell_type": "code",
   "execution_count": null,
   "id": "10c83139",
   "metadata": {},
   "outputs": [],
   "source": []
  }
 ],
 "metadata": {
  "kernelspec": {
   "display_name": "Python 3 (ipykernel)",
   "language": "python",
   "name": "python3"
  },
  "language_info": {
   "codemirror_mode": {
    "name": "ipython",
    "version": 3
   },
   "file_extension": ".py",
   "mimetype": "text/x-python",
   "name": "python",
   "nbconvert_exporter": "python",
   "pygments_lexer": "ipython3",
   "version": "3.11.4"
  }
 },
 "nbformat": 4,
 "nbformat_minor": 5
}
